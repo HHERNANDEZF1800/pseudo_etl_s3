{
 "cells": [
  {
   "cell_type": "markdown",
   "metadata": {},
   "source": [
    "### ETL S3 servidores públicos"
   ]
  },
  {
   "cell_type": "code",
   "execution_count": 42,
   "metadata": {},
   "outputs": [],
   "source": [
    "### importar bibliotecas de python para realizar la migracion\n",
    "import json\n",
    "from addict import Dict\n",
    "import glob\n",
    "from pprint import pprint"
   ]
  },
  {
   "cell_type": "markdown",
   "metadata": {},
   "source": []
  },
  {
   "cell_type": "code",
   "execution_count": 43,
   "metadata": {},
   "outputs": [],
   "source": [
    "### ruta de los archivos json\n",
    "ruta_datos_entrada = '../pruebas/datos_entrada'\n",
    "ruta_datos_salida = '../pruebas/datos_salida'\n",
    "\n",
    "# Apuntando a un solo archivo de entrada para pruebas en s3s\n",
    "archivo_entrada_s3s = '/s3s/CHIAPAS/data-0000000001.json'\n",
    "\n",
    "#nameFiles = glob.glob('*.json')"
   ]
  },
  {
   "cell_type": "code",
   "execution_count": 44,
   "metadata": {},
   "outputs": [],
   "source": [
    "### varibables globales\n",
    "array_faltas_servidores_graves = []\n",
    "array_faltas_servidores_no_graves = []\n"
   ]
  },
  {
   "cell_type": "code",
   "execution_count": 45,
   "metadata": {},
   "outputs": [],
   "source": [
    "### diccionario de faltas graves\n",
    "tipo_de_faltas_graves = [\n",
    "  \"ABUSO_FUNCIONES\", \n",
    "\"COHECHO\", \n",
    "\"PECULADO\", \n",
    "\"DESVIO_RECURSOS_PUBLICOS\", \n",
    "\"UTILIZACION_INDEBIDA_INFORMACION\", \n",
    "\"CONFLICTO_INTERES\", \n",
    "\"CONTRATACION_INDEBIDA\", \n",
    "\"ENRIQUECIMIENTO_OCULTO\", \n",
    "\"TRAFICO_INFLUENCIAS\", \n",
    "\"SIMULACION_ACTO_JURIDICO\", \n",
    "\"ENCUBRIMIENTO\", \n",
    "\"DESACATO\", \n",
    "\"NEPOTISMO\", \n",
    "\"OBSTRUCCION\"\n",
    "]"
   ]
  },
  {
   "cell_type": "code",
   "execution_count": 46,
   "metadata": {},
   "outputs": [],
   "source": [
    "### diccionario de faltas no graves\n",
    "tipo_de_faltas_no_grave = [\"CUMPLIR_FUNCIONES\", \n",
    "\"DENUNCIAR_FALTAS\", \n",
    "\"ATENDER_INSTRUCCIONES\", \n",
    "\"DECLARACIONES\", \n",
    "\"CUSTODIAR_DOCUMENTACION\", \n",
    "\"SUPERVISAR_ART_49_LGRA\", \n",
    "\"RENDIR_CUENTAS\", \n",
    "\"COLABORAR_PROCEDIMIENTOS\", \n",
    "\"CAUSAR_DANOS\"\n",
    "]"
   ]
  },
  {
   "cell_type": "code",
   "execution_count": 47,
   "metadata": {},
   "outputs": [],
   "source": [
    "### Se carga los datos de los archivos JSON en un array de objetos Dict\n",
    "def load_json_files(file_pattern):\n",
    "    all_data = []\n",
    "    for filename in glob.glob(file_pattern):\n",
    "        with open(filename, 'r', encoding='utf-8') as file:\n",
    "            json_data = json.load(file)\n",
    "            # Convertir cada objeto JSON a un objeto Dict de addict\n",
    "            all_data.extend([Dict(item) for item in json_data])\n",
    "    return all_data"
   ]
  },
  {
   "cell_type": "code",
   "execution_count": 48,
   "metadata": {},
   "outputs": [],
   "source": [
    "### Cargar todos los archivos JSON que se ubiquen en la ruta especificada\n",
    "data = load_json_files(ruta_datos_entrada + archivo_entrada_s3s)"
   ]
  },
  {
   "cell_type": "code",
   "execution_count": 64,
   "metadata": {},
   "outputs": [],
   "source": [
    "### old\n",
    "\"\"\" def extract_faltas_element(element_data):\n",
    "    processed_element = {\n",
    "        'fecha': element_data.fechaCaptura,\n",
    "        'expediente': element_data.expediente,\n",
    "        'datosGenerales': {\n",
    "            'nombre': element_data.servidorPublicoSancionado.nombres,\n",
    "            'primerApellido': element_data.servidorPublicoSancionado.primerApellido,\n",
    "            'segundoApellido': element_data.servidorPublicoSancionado.segundoApellido,\n",
    "            if element_data.servidorPublicoSancionado.curp is not None:\n",
    "                'curp': element_data.servidorPublicoSancionado.curp,\n",
    "            else:\n",
    "                'curp': None,\n",
    "            'rfc': element_data.servidorPublicoSancionado.rfc,\n",
    "            'sexo': element_data.servidorPublicoSancionado.sexo,\n",
    "        },\n",
    "    }\n",
    "    return processed_element\n",
    " \"\"\""
   ]
  },
  {
   "cell_type": "code",
   "execution_count": 67,
   "metadata": {},
   "outputs": [],
   "source": [
    "def extract_faltas_element(element_data):\n",
    "    # Función auxiliar para acceder de forma segura a atributos anidados\n",
    "    def safe_get(obj, *attrs):\n",
    "        for attr in attrs:\n",
    "            if not hasattr(obj, attr):\n",
    "                return None\n",
    "            obj = getattr(obj, attr)\n",
    "        return obj\n",
    "\n",
    "    # Construir el diccionario de datos generales\n",
    "    datos_generales = {\n",
    "        'nombre': safe_get(element_data, 'servidorPublicoSancionado', 'nombres'),\n",
    "        'primerApellido': safe_get(element_data, 'servidorPublicoSancionado', 'primerApellido'),\n",
    "        'segundoApellido': safe_get(element_data, 'servidorPublicoSancionado', 'segundoApellido'),\n",
    "        'rfc': safe_get(element_data, 'servidorPublicoSancionado', 'rfc'),\n",
    "        'sexo': safe_get(element_data, 'servidorPublicoSancionado', 'sexo'),\n",
    "    }\n",
    "\n",
    "    # Añadir CURP solo si existe\n",
    "    curp = safe_get(element_data, 'servidorPublicoSancionado', 'curp')\n",
    "    if curp is not None:\n",
    "        datos_generales['curp'] = curp\n",
    "\n",
    "    # Construir el diccionario procesado\n",
    "    processed_element = {\n",
    "        'fecha': safe_get(element_data, 'fechaCaptura'),\n",
    "        'expediente': safe_get(element_data, 'expediente'),\n",
    "        'datosGenerales': datos_generales\n",
    "    }\n",
    "\n",
    "    return processed_element\n",
    "\n",
    "# Ejemplo de uso:\n",
    "# element_data = ... # Tu objeto con los datos\n",
    "# resultado = extract_faltas_element(element_data)\n",
    "# print(resultado)"
   ]
  },
  {
   "cell_type": "code",
   "execution_count": 68,
   "metadata": {},
   "outputs": [],
   "source": [
    "### Extraer datos de un solo elemento del array\n",
    "element_data = data[0]\n",
    "##pprint(element_data)\n",
    "processed_element = extract_faltas_element(element_data)\n"
   ]
  },
  {
   "cell_type": "code",
   "execution_count": 69,
   "metadata": {},
   "outputs": [
    {
     "name": "stdout",
     "output_type": "stream",
     "text": [
      "{'datosGenerales': {'curp': {},\n",
      "                    'nombre': 'ANDRES',\n",
      "                    'primerApellido': 'REYES',\n",
      "                    'rfc': {},\n",
      "                    'segundoApellido': 'ENRIQUEZ',\n",
      "                    'sexo': {}},\n",
      " 'expediente': 'CA/012/2022',\n",
      " 'fecha': '2022-05-06T00:00:00Z'}\n"
     ]
    }
   ],
   "source": [
    "pprint(processed_element)"
   ]
  },
  {
   "cell_type": "code",
   "execution_count": 70,
   "metadata": {},
   "outputs": [
    {
     "name": "stdout",
     "output_type": "stream",
     "text": [
      "'OTRO'\n"
     ]
    }
   ],
   "source": [
    "pprint(data[0].tipoFalta.valor)"
   ]
  },
  {
   "cell_type": "code",
   "execution_count": 52,
   "metadata": {},
   "outputs": [
    {
     "name": "stdout",
     "output_type": "stream",
     "text": [
      "<class 'list'>\n",
      "27\n",
      "12\n",
      "dict_keys(['id', 'fechaCaptura', 'expediente', 'institucionDependencia', 'servidorPublicoSancionado', 'autoridadSancionadora', 'tipoFalta', 'tipoSancion', 'causaMotivoHechos', 'resolucion', 'multa', 'inhabilitacion'])\n",
      "{'autoridadSancionadora': 'DATOS NO PROPORCIONADOS',\n",
      " 'causaMotivoHechos': 'DATOS NO PROPORCIONADOS',\n",
      " 'expediente': 'CA/012/2022',\n",
      " 'fechaCaptura': '2022-05-06T00:00:00Z',\n",
      " 'id': 'b411f02b-5ea7-489e-93e5-9eca24d090f6',\n",
      " 'inhabilitacion': {'fechaFinal': '2022-05-15',\n",
      "                    'fechaInicial': '2022-02-15',\n",
      "                    'plazo': '3 MESES'},\n",
      " 'institucionDependencia': {'clave': '78',\n",
      "                            'nombre': 'Fiscalia General del Estado',\n",
      "                            'siglas': 'FGE'},\n",
      " 'multa': {'moneda': {'clave': 'MXN', 'valor': 'PESO MEXICANO'}, 'monto': 0},\n",
      " 'resolucion': {'fechaResolucion': '2022-01-12',\n",
      "                'url': 'DATOS NO PROPORCIONADOS'},\n",
      " 'servidorPublicoSancionado': {'nivel': 'DATOS NO PROPORCIONADOS',\n",
      "                               'nombres': 'ANDRES',\n",
      "                               'primerApellido': 'REYES',\n",
      "                               'puesto': 'FISCAL DEL MINISTERIO PUBLICO, '\n",
      "                                         'ADSCRITO A LA FISCALIA DE LA MUJER',\n",
      "                               'segundoApellido': 'ENRIQUEZ'},\n",
      " 'tipoFalta': {'clave': 'OTRO', 'valor': 'OTRO'},\n",
      " 'tipoSancion': [{'clave': 'I', 'valor': 'INHABILITADO'}]}\n",
      "'b411f02b-5ea7-489e-93e5-9eca24d090f6'\n"
     ]
    }
   ],
   "source": [
    "pprint(type(data))\n",
    "pprint(len(data))\n",
    "pprint(len(data[0].keys()))\n",
    "pprint(data[0].keys())\n",
    "pprint(data[0])\n",
    "pprint(data[0].id)"
   ]
  },
  {
   "cell_type": "code",
   "execution_count": 53,
   "metadata": {},
   "outputs": [
    {
     "name": "stdout",
     "output_type": "stream",
     "text": [
      "{'faltas_servidores_graves': [],\n",
      " 'faltas_servidores_no_graves': [],\n",
      " 'id': 'b411f02b-5ea7-489e-93e5-9eca24d090f6',\n",
      " 'nombre': {}}\n"
     ]
    }
   ],
   "source": [
    "pprint(processed_element)"
   ]
  },
  {
   "cell_type": "code",
   "execution_count": null,
   "metadata": {},
   "outputs": [],
   "source": []
  }
 ],
 "metadata": {
  "kernelspec": {
   "display_name": "migracionS3",
   "language": "python",
   "name": "python3"
  },
  "language_info": {
   "codemirror_mode": {
    "name": "ipython",
    "version": 3
   },
   "file_extension": ".py",
   "mimetype": "text/x-python",
   "name": "python",
   "nbconvert_exporter": "python",
   "pygments_lexer": "ipython3",
   "version": "3.12.4"
  }
 },
 "nbformat": 4,
 "nbformat_minor": 2
}
