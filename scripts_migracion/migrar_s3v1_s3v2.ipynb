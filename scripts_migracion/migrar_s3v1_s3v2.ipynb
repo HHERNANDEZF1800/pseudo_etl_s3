{
 "cells": [
  {
   "cell_type": "markdown",
   "metadata": {},
   "source": [
    "### Convertir json del s3 v1 a s3 v2"
   ]
  },
  {
   "cell_type": "markdown",
   "metadata": {},
   "source": []
  },
  {
   "cell_type": "code",
   "execution_count": 46,
   "metadata": {},
   "outputs": [],
   "source": [
    "# importar bibliotecas de python para realizar la migracion\n",
    "import json\n",
    "from addict import Dict\n",
    "import glob\n",
    "from pprint import pprint"
   ]
  },
  {
   "cell_type": "code",
   "execution_count": 47,
   "metadata": {},
   "outputs": [],
   "source": [
    "# ruta de los archivos json\n",
    "ruta_datos_entrada = '../pruebas/datos_entrada'\n",
    "ruta_datos_salida = '../pruebas/datos_salida'\n",
    "\n",
    "# Archivo de entrada para pruebas en s3s\n",
    "archivo_entrada_s3s = '/s3s/CHIAPAS/data-0000000001.json'\n",
    "\n",
    "#nameFiles = glob.glob('*.json')"
   ]
  },
  {
   "cell_type": "code",
   "execution_count": 53,
   "metadata": {},
   "outputs": [],
   "source": [
    "# varibables globales\n",
    "array_faltas_servidores_graves = []\n",
    "array_faltas_servidores_no_graves = []\n",
    "array_faltas_personas_fisicas_graves = []\n",
    "array_faltas_personas_morales_graves = []"
   ]
  },
  {
   "cell_type": "code",
   "execution_count": 54,
   "metadata": {},
   "outputs": [
    {
     "name": "stdout",
     "output_type": "stream",
     "text": [
      "'../pruebas/datos_entrada/s3s/CHIAPAS/data-0000000001.json'\n"
     ]
    }
   ],
   "source": [
    "pprint(ruta_datos_entrada + archivo_entrada_s3s)"
   ]
  },
  {
   "cell_type": "code",
   "execution_count": 49,
   "metadata": {},
   "outputs": [],
   "source": [
    "# Se carga los datos de los archivos JSON en una variable\n",
    "def load_json_files(file_pattern):\n",
    "    all_data = []\n",
    "    for filename in glob.glob(file_pattern):\n",
    "        with open(filename, 'r', encoding='utf-8') as file:\n",
    "            json_data = json.load(file)\n",
    "            # Convertir cada objeto JSON a un objeto Dict de addict\n",
    "            all_data.extend([Dict(item) for item in json_data])\n",
    "    return all_data"
   ]
  },
  {
   "cell_type": "code",
   "execution_count": 50,
   "metadata": {},
   "outputs": [],
   "source": [
    "# Cargar todos los archivos JSON que se ubiquen en la ruta especificada\n",
    "data = load_json_files(ruta_datos_entrada + archivo_entrada_s3s)"
   ]
  },
  {
   "cell_type": "code",
   "execution_count": 51,
   "metadata": {},
   "outputs": [
    {
     "name": "stdout",
     "output_type": "stream",
     "text": [
      "<class 'list'>\n",
      "27\n",
      "12\n",
      "dict_keys(['id', 'fechaCaptura', 'expediente', 'institucionDependencia', 'servidorPublicoSancionado', 'autoridadSancionadora', 'tipoFalta', 'tipoSancion', 'causaMotivoHechos', 'resolucion', 'multa', 'inhabilitacion'])\n"
     ]
    }
   ],
   "source": [
    "pprint(type(data))\n",
    "pprint(len(data))\n",
    "pprint(len(data[0].keys()))\n",
    "pprint(data[0].keys())\n"
   ]
  },
  {
   "cell_type": "code",
   "execution_count": 52,
   "metadata": {},
   "outputs": [
    {
     "name": "stdout",
     "output_type": "stream",
     "text": [
      "{'autoridadSancionadora': 'DATOS NO PROPORCIONADOS',\n",
      " 'causaMotivoHechos': 'DATOS NO PROPORCIONADOS',\n",
      " 'expediente': '002/DRD-B/2020',\n",
      " 'fechaCaptura': '2022-06-20T00:00:00Z',\n",
      " 'id': '0069c0fb-5e0c-4a55-ae66-3d7a518e84d3',\n",
      " 'inhabilitacion': {'fechaFinal': '2021-01-25',\n",
      "                    'fechaInicial': '2021-01-14',\n",
      "                    'plazo': '11 DÍAS'},\n",
      " 'institucionDependencia': {'clave': '55',\n",
      "                            'nombre': 'Instituto de la Infraestructura Física '\n",
      "                                      'Educativa del Estado de Chiapas',\n",
      "                            'siglas': 'INIFECH'},\n",
      " 'multa': {'moneda': {'clave': 'MXN', 'valor': 'PESO MEXICANO'}, 'monto': 0},\n",
      " 'resolucion': {'fechaResolucion': '2021-01-14',\n",
      "                'url': 'DATOS NO PROPORCIONADOS'},\n",
      " 'servidorPublicoSancionado': {'nivel': 'DATOS NO PROPORCIONADOS',\n",
      "                               'nombres': 'RUBEN',\n",
      "                               'primerApellido': 'ZUART',\n",
      "                               'puesto': 'JEFE DE LA UNIDAD DE APOYO '\n",
      "                                         'ADMINISTRATIVO',\n",
      "                               'segundoApellido': 'MARTINEZ'},\n",
      " 'tipoFalta': {'clave': 'OTRO', 'valor': 'OTRO'},\n",
      " 'tipoSancion': [{'clave': 'I', 'valor': 'INHABILITADO'}]}\n"
     ]
    }
   ],
   "source": [
    "pprint(data[26])"
   ]
  },
  {
   "cell_type": "code",
   "execution_count": null,
   "metadata": {},
   "outputs": [],
   "source": [
    "# Funcion para extraer los datos de un objeto JSON y almacenarlos en otro objeto json"
   ]
  },
  {
   "cell_type": "code",
   "execution_count": null,
   "metadata": {},
   "outputs": [],
   "source": []
  }
 ],
 "metadata": {
  "kernelspec": {
   "display_name": "migracionS3",
   "language": "python",
   "name": "python3"
  },
  "language_info": {
   "codemirror_mode": {
    "name": "ipython",
    "version": 3
   },
   "file_extension": ".py",
   "mimetype": "text/x-python",
   "name": "python",
   "nbconvert_exporter": "python",
   "pygments_lexer": "ipython3",
   "version": "3.12.4"
  }
 },
 "nbformat": 4,
 "nbformat_minor": 2
}
