{
 "cells": [
  {
   "cell_type": "code",
   "execution_count": 24,
   "metadata": {},
   "outputs": [],
   "source": [
    "### Migracion s3 \n",
    "### Leer datps de un objeto json y analizarlos para validar si se encuentran en el json del estandar(OPEN API )"
   ]
  },
  {
   "cell_type": "markdown",
   "metadata": {},
   "source": []
  },
  {
   "cell_type": "code",
   "execution_count": 25,
   "metadata": {},
   "outputs": [],
   "source": [
    "import glob\n",
    "import json \n",
    "import polars as pl\n",
    "from pathlib import Path\n",
    "import pandas as pd\n",
    "from pprint import pprint\n",
    "from typing import Dict, Any \n",
    "from dateutil.parser import parse\n",
    "from concurrent.futures import ThreadPoolExecutor\n"
   ]
  },
  {
   "cell_type": "markdown",
   "metadata": {},
   "source": [
    "#### Valdiar datos de entrada contra esquema definida con Open-Api"
   ]
  },
  {
   "cell_type": "markdown",
   "metadata": {},
   "source": [
    "#### Datos de entrada"
   ]
  },
  {
   "cell_type": "code",
   "execution_count": 26,
   "metadata": {},
   "outputs": [],
   "source": [
    "ruta_datos_entrada_s3s = '../pruebas/datos_entrada/s3s/'\n",
    "ruta_datos_entrada_s3p = '../pruebas/datos_entrada/s3p/'\n",
    "ruta_datos_salida = '../pruebas/datos_salida/'\n"
   ]
  },
  {
   "cell_type": "markdown",
   "metadata": {},
   "source": [
    "#### Analizar el tipo de faltas en los bulk de datos"
   ]
  },
  {
   "cell_type": "code",
   "execution_count": 43,
   "metadata": {},
   "outputs": [],
   "source": [
    "\n",
    "def process_json_files(input_path: str, output_file: str):\n",
    "    \"\"\"\n",
    "    Carga archivos JSON de un directorio y sus subdirectorios en un DataFrame de Polars,\n",
    "    los concatena y guarda el resultado en un archivo.\n",
    "    \n",
    "    :param input_path: Ruta al directorio de entrada que contiene los archivos JSON.\n",
    "    :param output_file: Ruta y nombre del archivo de salida.\n",
    "    \"\"\"\n",
    "    input_path = Path(input_path)\n",
    "    all_data = []\n",
    "    all_columns = set()\n",
    "\n",
    "    # Primera pasada: recopilar todas las columnas únicas y datos\n",
    "    for json_file in input_path.rglob('*.json'):\n",
    "        try:\n",
    "            with open(json_file, 'r', encoding='utf-8') as file:\n",
    "                data = json.load(file)\n",
    "            for item in data:\n",
    "                all_columns.update(item.keys())\n",
    "                all_data.append(item)\n",
    "        except Exception as e:\n",
    "            print(f\"Error al procesar el archivo {json_file}: {e}\")\n",
    "\n",
    "    # Crear un DataFrame con todos los datos y columnas\n",
    "    if all_data:\n",
    "        # Asegurarse de que todas las filas tengan todas las columnas\n",
    "        for item in all_data:\n",
    "            for col in all_columns:\n",
    "                if col not in item:\n",
    "                    item[col] = None\n",
    "\n",
    "        final_df = pl.DataFrame(all_data)\n",
    "\n",
    "        # Guardar el DataFrame final\n",
    "        final_df.write_parquet(output_file)\n",
    "        print(f\"Datos guardados exitosamente en {output_file}\")\n",
    "        print(f\"Columnas en el DataFrame final: {final_df.columns}\")\n",
    "    else:\n",
    "        print(\"No se encontraron archivos JSON válidos para procesar.\")"
   ]
  },
  {
   "cell_type": "code",
   "execution_count": 44,
   "metadata": {},
   "outputs": [
    {
     "name": "stdout",
     "output_type": "stream",
     "text": [
      "Datos guardados exitosamente en ../pruebas/datos_salida/datos_salida_s3s.parquet\n",
      "Columnas en el DataFrame final: ['id', 'institucionDependencia', 'servidorPublicoSancionado', 'tipoFalta', 'resolucion', 'inhabilitacion', '__v', 'autoridadSancionadora', 'causaMotivoHechos', 'documentos', 'expediente', 'fechaCaptura', 'observaciones', 'tipoSancion', 'multa']\n"
     ]
    }
   ],
   "source": [
    "process_json_files(ruta_datos_entrada_s3s, ruta_datos_salida + 'datos_salida_s3s.parquet')      "
   ]
  },
  {
   "cell_type": "code",
   "execution_count": 34,
   "metadata": {},
   "outputs": [],
   "source": [
    "### v1\n",
    "#s3p_v1 = \"{'id': null,'fechaCaptura': null,'expediente': null,'institucionDependencia': {'nombre': null,'siglas': null,'clave': null},'particularSancionado': {'nombreRazonSocial': null,'objetoSocial': null,'rfc': null,'tipoPersona': null,'telefono': null,'domicilioMexico': {'pais': {'valor': null,'clave': null},'entidadFederativa': {'valor': null,'clave': null},'municipio': {'valor': null,'clave': null},'codigoPostal': null,'localidad': {'valor': null,'clave': null},'vialidad': {'clave': null,'valor': null},'numeroExterior': null,'numeroInterior': null},'domicilioExtranjero': {'calle': null,'numeroExterior': null,'numeroInterior': null,'ciudadLocalidad': null,'estadoProvincia': null,'pais': {'clave': null,'valor': null},'codigoPostal': null}},'directorGeneral': {'nombres': null,'primerApellido': null,'segundoApellido': null,'curp': null},'apoderadoLegal': {'nombres': null,'primerApellido': null,'segundoApellido': null,'curp': null},'objetoContrato': null,'autoridadSancionadora': null,'tipoFalta': null,'tipoSancion': {'clave': null,'valor': null,'descripcion': null},'causaMotivoHechos': null,'acto': null,'responsableSancion': {'nombres': null,'primerApellido': null,'segundoApellido': null},'resolucion': {'sentido': null,'url': null,'fechaNotificacion': null},'multa': {'monto': null,'moneda': {'clave': null,'valor': null}},'inhabilitacion': {'plazo': null,'fechaInicial': null,'fechaFinal': null},'observaciones': null,'documentos': [{'id': null,'tipo': null,'titulo': null,'descripcion': null,'url': null,'fecha': null}]}\"\n",
    "#s3s_v1 = '{\"id\":null,\"fechaCaptura\":null,\"expediente\":null,\"institucionDependencia\":{\"nombre\":null,\"siglas\":null,\"clave\":null},\"particularSancionado\":{\"nombreRazonSocial\":null,\"objetoSocial\":null,\"rfc\":null,\"tipoPersona\":null,\"telefono\":null,\"domicilioMexico\":{\"pais\":{\"valor\":null,\"clave\":null},\"entidadFederativa\":{\"valor\":null,\"clave\":null},\"municipio\":{\"valor\":null,\"clave\":null},\"codigoPostal\":null,\"localidad\":{\"valor\":null,\"clave\":null},\"vialidad\":{\"clave\":null,\"valor\":null},\"numeroExterior\":null,\"numeroInterior\":null},\"domicilioExtranjero\":{\"calle\":null,\"numeroExterior\":null,\"numeroInterior\":null,\"ciudadLocalidad\":null,\"estadoProvincia\":null,\"pais\":{\"clave\":null,\"valor\":null},\"codigoPostal\":null}},\"directorGeneral\":{\"nombres\":null,\"primerApellido\":null,\"segundoApellido\":null,\"curp\":null},\"apoderadoLegal\":{\"nombres\":null,\"primerApellido\":null,\"segundoApellido\":null,\"curp\":null},\"objetoContrato\":null,\"autoridadSancionadora\":null,\"tipoFalta\":null,\"tipoSancion\":{\"clave\":null,\"valor\":null,\"descripcion\":null},\"causaMotivoHechos\":null,\"acto\":null,\"responsableSancion\":{\"nombres\":null,\"primerApellido\":null,\"segundoApellido\":null},\"resolucion\":{\"sentido\":null,\"url\":null,\"fechaNotificacion\":null},\"multa\":{\"monto\":null,\"moneda\":{\"clave\":null,\"valor\":null}},\"inhabilitacion\":{\"plazo\":null,\"fechaInicial\":null,\"fechaFinal\":null},\"observaciones\":null,\"documentos\":[{\"id\":null,\"tipo\":null,\"titulo\":null,\"descripcion\":null,\"url\":null,\"fecha\":null}]}'\n"
   ]
  },
  {
   "cell_type": "code",
   "execution_count": 46,
   "metadata": {},
   "outputs": [
    {
     "name": "stdout",
     "output_type": "stream",
     "text": [
      "shape: (5, 15)\n",
      "┌───────────┬───────────┬───────────┬───────────┬───┬───────────┬───────────┬───────────┬──────────┐\n",
      "│ id        ┆ instituci ┆ servidorP ┆ tipoFalta ┆ … ┆ fechaCapt ┆ observaci ┆ tipoSanci ┆ multa    │\n",
      "│ ---       ┆ onDepende ┆ ublicoSan ┆ ---       ┆   ┆ ura       ┆ ones      ┆ on        ┆ ---      │\n",
      "│ str       ┆ ncia      ┆ cionado   ┆ struct[3] ┆   ┆ ---       ┆ ---       ┆ ---       ┆ struct[2 │\n",
      "│           ┆ ---       ┆ ---       ┆           ┆   ┆ str       ┆ str       ┆ list[stru ┆ ]        │\n",
      "│           ┆ struct[3] ┆ struct[5] ┆           ┆   ┆           ┆           ┆ ct[3]]    ┆          │\n",
      "╞═══════════╪═══════════╪═══════════╪═══════════╪═══╪═══════════╪═══════════╪═══════════╪══════════╡\n",
      "│ 6539702fe ┆ {\"FISCALI ┆ {\"JORGE\", ┆ {\"ANG\",\"A ┆ … ┆ 2023-10-2 ┆ FALTAS    ┆ [{\"I\",\"IN ┆ null     │\n",
      "│ 61a02001d ┆ A GENERAL ┆ \"ALEJO    ┆ DMINISTRA ┆   ┆ 5T19:53:4 ┆ ADMINISTR ┆ HABILITAD ┆          │\n",
      "│ 90f4bf    ┆ DEL       ┆ \",\"MIKEL\" ┆ TIVA NO   ┆   ┆ 5+00:00   ┆ ATIVAS    ┆ O\",\"\"}]   ┆          │\n",
      "│           ┆ ESTADO …  ┆ ,null…    ┆ GRAV…     ┆   ┆           ┆           ┆           ┆          │\n",
      "│ 653b138ee ┆ {\"FISCALI ┆ {\"GERARDO ┆ {\"ANG\",\"A ┆ … ┆ 2023-10-2 ┆ null      ┆ [{\"I\",\"IN ┆ {{\"MXN\", │\n",
      "│ 61a02001d ┆ A GENERAL ┆ \",\"MANTEC ┆ DMINISTRA ┆   ┆ 7T01:34:0 ┆           ┆ HABILITAD ┆ \"PESO    │\n",
      "│ 90f588    ┆ DEL       ┆ ON \",\"ROJ ┆ TIVA NO   ┆   ┆ 6+00:00   ┆           ┆ O\",\"IRREG ┆ MEXICANO │\n",
      "│           ┆ ESTADO …  ┆ O\",…      ┆ GRAV…     ┆   ┆           ┆           ┆ ULA…      ┆ \"},2.367 │\n",
      "│           ┆           ┆           ┆           ┆   ┆           ┆           ┆           ┆ …        │\n",
      "│ 654d2363e ┆ {\"FISCALI ┆ {\"AMERICA ┆ {\"ANG\",\"A ┆ … ┆ 2023-11-1 ┆ null      ┆ [{\"I\",\"IN ┆ null     │\n",
      "│ 61a02001d ┆ A GENERAL ┆ \",\"AGUILA ┆ DMINISTRA ┆   ┆ 0T00:32:4 ┆           ┆ HABILITAD ┆          │\n",
      "│ 90f5c7    ┆ DEL       ┆ R \",\"BOZA ┆ TIVA NO   ┆   ┆ 5+00:00   ┆           ┆ O\",\"INHAB ┆          │\n",
      "│           ┆ ESTADO …  ┆ DA\"…      ┆ GRAV…     ┆   ┆           ┆           ┆ ILI…      ┆          │\n",
      "│ 62292f319 ┆ {\"Poder   ┆ {\"CELSO   ┆ {\"AG\",\"AD ┆ … ┆ 2019-10-1 ┆ null      ┆ [{\"S\",\"SU ┆ {{null,n │\n",
      "│ 63b6a1c03 ┆ Judicial\" ┆ ARTURO\",\" ┆ MINISTRAT ┆   ┆ 6T00:00:0 ┆           ┆ SPENSIÓN  ┆ ull},nul │\n",
      "│ f52111    ┆ ,\"pjedome ┆ SANCHEZ\", ┆ IVA       ┆   ┆ 0Z        ┆           ┆ DEL       ┆ l}       │\n",
      "│           ┆ x\",\"…     ┆ \"GAR…     ┆ GRAVE\",n… ┆   ┆           ┆           ┆ EMPLEO, … ┆          │\n",
      "│ 62b5d493a ┆ {\"FISCALÍ ┆ {\"JORGE   ┆ {\"AG\",\"AD ┆ … ┆ 2020-11-0 ┆ EMPLEO,   ┆ [{\"I\",\"IN ┆ {{\"MXN\", │\n",
      "│ 069d2c71a ┆ A GENERAL ┆ ALBERTO\", ┆ MINISTRAT ┆   ┆ 9T10:19:5 ┆ CARGO O   ┆ HABILITAD ┆ \"PESO    │\n",
      "│ cd3b7e    ┆ DE        ┆ \"MAGALLÁN ┆ IVA       ┆   ┆ 6Z        ┆ COMISIÓN  ┆ O\",\"INHAB ┆ MEXICANO │\n",
      "│           ┆ JUSTICIA… ┆ \",\"P…     ┆ GRAVE\",\"… ┆   ┆           ┆ AL MO…    ┆ ILI…      ┆ \"},0.0}  │\n",
      "└───────────┴───────────┴───────────┴───────────┴───┴───────────┴───────────┴───────────┴──────────┘\n"
     ]
    }
   ],
   "source": [
    "# cargar y mostrar el archivo de salida de concatenar los datos\n",
    "df_s3s = pl.read_parquet(ruta_datos_salida + 'datos_salida_s3s.parquet')\n",
    "print(df.head(5))"
   ]
  },
  {
   "cell_type": "code",
   "execution_count": 52,
   "metadata": {},
   "outputs": [
    {
     "name": "stdout",
     "output_type": "stream",
     "text": [
      "['id',\n",
      " 'institucionDependencia',\n",
      " 'servidorPublicoSancionado',\n",
      " 'tipoFalta',\n",
      " 'resolucion',\n",
      " 'inhabilitacion',\n",
      " '__v',\n",
      " 'autoridadSancionadora',\n",
      " 'causaMotivoHechos',\n",
      " 'documentos',\n",
      " 'expediente',\n",
      " 'fechaCaptura',\n",
      " 'observaciones',\n",
      " 'tipoSancion',\n",
      " 'multa']\n",
      "<class 'polars.dataframe.frame.DataFrame'>\n",
      "shape: (1, 15)\n",
      "┌───────────┬───────────┬───────────┬───────────┬───┬───────────┬───────────┬───────────┬──────────┐\n",
      "│ id        ┆ instituci ┆ servidorP ┆ tipoFalta ┆ … ┆ fechaCapt ┆ observaci ┆ tipoSanci ┆ multa    │\n",
      "│ ---       ┆ onDepende ┆ ublicoSan ┆ ---       ┆   ┆ ura       ┆ ones      ┆ on        ┆ ---      │\n",
      "│ str       ┆ ncia      ┆ cionado   ┆ struct[3] ┆   ┆ ---       ┆ ---       ┆ ---       ┆ struct[2 │\n",
      "│           ┆ ---       ┆ ---       ┆           ┆   ┆ str       ┆ str       ┆ list[stru ┆ ]        │\n",
      "│           ┆ struct[3] ┆ struct[5] ┆           ┆   ┆           ┆           ┆ ct[3]]    ┆          │\n",
      "╞═══════════╪═══════════╪═══════════╪═══════════╪═══╪═══════════╪═══════════╪═══════════╪══════════╡\n",
      "│ 6539702fe ┆ {\"FISCALI ┆ {\"JORGE\", ┆ {\"ANG\",\"A ┆ … ┆ 2023-10-2 ┆ FALTAS    ┆ [{\"I\",\"IN ┆ null     │\n",
      "│ 61a02001d ┆ A GENERAL ┆ \"ALEJO    ┆ DMINISTRA ┆   ┆ 5T19:53:4 ┆ ADMINISTR ┆ HABILITAD ┆          │\n",
      "│ 90f4bf    ┆ DEL       ┆ \",\"MIKEL\" ┆ TIVA NO   ┆   ┆ 5+00:00   ┆ ATIVAS    ┆ O\",\"\"}]   ┆          │\n",
      "│           ┆ ESTADO …  ┆ ,null…    ┆ GRAV…     ┆   ┆           ┆           ┆           ┆          │\n",
      "└───────────┴───────────┴───────────┴───────────┴───┴───────────┴───────────┴───────────┴──────────┘\n"
     ]
    }
   ],
   "source": [
    "pprint(df_s3s.columns)\n",
    "pprint(type(df_s3s))\n",
    "pprint(df_s3s[0])"
   ]
  },
  {
   "cell_type": "code",
   "execution_count": null,
   "metadata": {},
   "outputs": [],
   "source": [
    "pprint(df_s3s[0].in)"
   ]
  },
  {
   "cell_type": "code",
   "execution_count": null,
   "metadata": {},
   "outputs": [],
   "source": []
  }
 ],
 "metadata": {
  "kernelspec": {
   "display_name": "migracionS3",
   "language": "python",
   "name": "python3"
  },
  "language_info": {
   "codemirror_mode": {
    "name": "ipython",
    "version": 3
   },
   "file_extension": ".py",
   "mimetype": "text/x-python",
   "name": "python",
   "nbconvert_exporter": "python",
   "pygments_lexer": "ipython3",
   "version": "3.12.4"
  }
 },
 "nbformat": 4,
 "nbformat_minor": 2
}
